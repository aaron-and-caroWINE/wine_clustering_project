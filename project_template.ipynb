{
 "cells": [
  {
   "cell_type": "markdown",
   "id": "premier-milan",
   "metadata": {},
   "source": [
    "# Wine Quality\n",
    "*Team Members: Caroline Miller, Aaron Moore*\n"
   ]
  },
  {
   "cell_type": "markdown",
   "id": "going-assembly",
   "metadata": {},
   "source": [
    "## Imports"
   ]
  },
  {
   "cell_type": "code",
   "execution_count": 1,
   "id": "divided-poster",
   "metadata": {},
   "outputs": [],
   "source": [
    "# getting imports\n",
    "from wrangle_wine import merge_wine, wrangle_wine\n",
    "\n",
    "import stats_wine as sw"
   ]
  },
  {
   "cell_type": "markdown",
   "id": "criminal-glory",
   "metadata": {},
   "source": [
    "## Acquire\n",
    "\n",
    "* Acquired two datasets from data.world on 2023-04-14\n",
    "* Saved the dataset as csv files and merged them \n",
    "* After merging:\n",
    "    * Observations: 6,497 wines on file\n",
    "    * Features: 13 features representing different wine characteristics"
   ]
  },
  {
   "cell_type": "code",
   "execution_count": 3,
   "id": "paperback-gather",
   "metadata": {},
   "outputs": [],
   "source": [
    "# Import acquired messy data from your acquire file here\n",
    "df = merge_wine()"
   ]
  },
  {
   "cell_type": "code",
   "execution_count": 6,
   "id": "2bfcfb77",
   "metadata": {},
   "outputs": [
    {
     "data": {
      "text/html": [
       "<div>\n",
       "<style scoped>\n",
       "    .dataframe tbody tr th:only-of-type {\n",
       "        vertical-align: middle;\n",
       "    }\n",
       "\n",
       "    .dataframe tbody tr th {\n",
       "        vertical-align: top;\n",
       "    }\n",
       "\n",
       "    .dataframe thead th {\n",
       "        text-align: right;\n",
       "    }\n",
       "</style>\n",
       "<table border=\"1\" class=\"dataframe\">\n",
       "  <thead>\n",
       "    <tr style=\"text-align: right;\">\n",
       "      <th></th>\n",
       "      <th>fixed acidity</th>\n",
       "      <th>volatile acidity</th>\n",
       "      <th>citric acid</th>\n",
       "      <th>residual sugar</th>\n",
       "      <th>chlorides</th>\n",
       "      <th>free sulfur dioxide</th>\n",
       "      <th>total sulfur dioxide</th>\n",
       "      <th>density</th>\n",
       "      <th>pH</th>\n",
       "      <th>sulphates</th>\n",
       "      <th>alcohol</th>\n",
       "      <th>quality</th>\n",
       "      <th>red_or_white</th>\n",
       "    </tr>\n",
       "  </thead>\n",
       "  <tbody>\n",
       "    <tr>\n",
       "      <th>5757</th>\n",
       "      <td>7.4</td>\n",
       "      <td>0.16</td>\n",
       "      <td>0.30</td>\n",
       "      <td>13.7</td>\n",
       "      <td>0.056</td>\n",
       "      <td>33.0</td>\n",
       "      <td>168.0</td>\n",
       "      <td>0.99825</td>\n",
       "      <td>2.90</td>\n",
       "      <td>0.44</td>\n",
       "      <td>8.7</td>\n",
       "      <td>7</td>\n",
       "      <td>white</td>\n",
       "    </tr>\n",
       "    <tr>\n",
       "      <th>2615</th>\n",
       "      <td>7.6</td>\n",
       "      <td>0.39</td>\n",
       "      <td>0.22</td>\n",
       "      <td>2.8</td>\n",
       "      <td>0.036</td>\n",
       "      <td>19.0</td>\n",
       "      <td>113.0</td>\n",
       "      <td>0.99260</td>\n",
       "      <td>3.03</td>\n",
       "      <td>0.29</td>\n",
       "      <td>10.2</td>\n",
       "      <td>5</td>\n",
       "      <td>white</td>\n",
       "    </tr>\n",
       "  </tbody>\n",
       "</table>\n",
       "</div>"
      ],
      "text/plain": [
       "      fixed acidity  volatile acidity  citric acid  residual sugar  chlorides  \\\n",
       "5757            7.4              0.16         0.30            13.7      0.056   \n",
       "2615            7.6              0.39         0.22             2.8      0.036   \n",
       "\n",
       "      free sulfur dioxide  total sulfur dioxide  density    pH  sulphates  \\\n",
       "5757                 33.0                 168.0  0.99825  2.90       0.44   \n",
       "2615                 19.0                 113.0  0.99260  3.03       0.29   \n",
       "\n",
       "      alcohol  quality red_or_white  \n",
       "5757      8.7        7        white  \n",
       "2615     10.2        5        white  "
      ]
     },
     "execution_count": 6,
     "metadata": {},
     "output_type": "execute_result"
    }
   ],
   "source": [
    "df.sample(2)"
   ]
  },
  {
   "cell_type": "markdown",
   "id": "impossible-bible",
   "metadata": {},
   "source": [
    "## Prepare\n",
    "\n",
    "* Removed outliers using the IQR * 1.5 method\n",
    "* No null values were present\n",
    "* Changed names to be python friendly\n",
    "* Encoded and scaled data\n",
    "* Split data into train, validate, test"
   ]
  },
  {
   "cell_type": "code",
   "execution_count": 4,
   "id": "flexible-irrigation",
   "metadata": {},
   "outputs": [],
   "source": [
    "# importing wrangled data\n",
    "train, validate, test,\\\n",
    "train_scaled, validate_scaled, test_scaled = wrangle_wine()"
   ]
  },
  {
   "cell_type": "markdown",
   "id": "immediate-mirror",
   "metadata": {},
   "source": [
    "## Explore\n",
    "* "
   ]
  },
  {
   "cell_type": "markdown",
   "id": "functional-sierra",
   "metadata": {},
   "source": [
    "**The following empty code block** is here to represent the countless questions, visualizations, and statistical tests \n",
    "that did not make your final report. Data scientist often create a myriad of questions, visualizations \n",
    "and statistical tests that do not make it into the final notebook. This is okay and expected. Remember \n",
    "that shotgun approaches to your data such as using pair plots to look at the relationships of each feature \n",
    "are a great way to explore your data, but they have no place in your final report. \n",
    "**Your final report is about showing and supporting your findings, not showing the work you did to get there!**"
   ]
  },
  {
   "cell_type": "code",
   "execution_count": null,
   "id": "approximate-thong",
   "metadata": {},
   "outputs": [],
   "source": []
  },
  {
   "cell_type": "markdown",
   "id": "4c2a92a4",
   "metadata": {},
   "source": [
    "### 1) What is the distribution of the wine quality?"
   ]
  },
  {
   "cell_type": "code",
   "execution_count": null,
   "id": "4317c20a",
   "metadata": {},
   "outputs": [],
   "source": [
    "### 2) Visualization of the data answering the question\n",
    "# * Use your chart title to provide the main take-away from each visualization\n",
    "# * Each visualization should answer one, and only one, of the explore questions"
   ]
  },
  {
   "cell_type": "markdown",
   "id": "overhead-sleep",
   "metadata": {},
   "source": [
    "##### Takeaways:\n",
    "* \n",
    "\n",
    "\n",
    "#### Answer to the question\n",
    "* Answer the question you posed of the data by referring to the chart and statistical test (if you used one)\n",
    "* If the question relates to drivers, explain why the feature in question would/wouldn't make a good driver"
   ]
  },
  {
   "cell_type": "markdown",
   "id": "c551cdc9",
   "metadata": {},
   "source": [
    "### 2) What is the relationship between wine quality and volatile acidity?"
   ]
  },
  {
   "cell_type": "code",
   "execution_count": null,
   "id": "8ead8c11",
   "metadata": {},
   "outputs": [],
   "source": [
    "# Visualization of the data answering the question\n",
    "# * Visualizations should be accompanied by take-aways telling the reader exactly what you want them to get from the chart\n",
    "# * You can include theses as bullet points under the chart\n",
    "# * Use your chart title to provide the main take-away from each visualization\n",
    "# * Each visualization should answer one, and only one, of the explore questions"
   ]
  },
  {
   "cell_type": "markdown",
   "id": "37bca123",
   "metadata": {},
   "source": [
    "##### Takeaways:\n",
    "* abd"
   ]
  },
  {
   "cell_type": "markdown",
   "id": "1ebcc17a",
   "metadata": {},
   "source": [
    "#### Statistical Testing\n",
    "##### Levene Test :\n",
    ">- H$_0$: Higher quality wines volatile acidity and lower quality wines volatile acidity have equal variance.\n",
    ">- H$_a$: Higher quality wines volatile acidity and lower quality wines volatile acidity do **not** have equal variance.\n",
    ">- Confidence Interval: 95%\n",
    ">- $a$: 0.05"
   ]
  },
  {
   "cell_type": "code",
   "execution_count": 2,
   "id": "a4026ea0",
   "metadata": {},
   "outputs": [
    {
     "name": "stdout",
     "output_type": "stream",
     "text": [
      "We can reject the null hypothesis with a p-value of 1.459186755356841e-09\n"
     ]
    }
   ],
   "source": [
    "# get stats results\n",
    "sw.get_va_lv()"
   ]
  },
  {
   "cell_type": "markdown",
   "id": "26f27a38",
   "metadata": {},
   "source": [
    "##### Mann-Whitney:\n",
    ">- H$_0$: There is no difference between higher quality wines volatile acid and lower quality wines volatile acidity\n",
    ">- H$_a$: There is a difference between higher quality wines volatile acidity and lower quality wines volatile acidity\n",
    ">- Confidence Interval: 95%\n",
    ">- $a$: 0.05"
   ]
  },
  {
   "cell_type": "code",
   "execution_count": 3,
   "id": "b2dc2347",
   "metadata": {},
   "outputs": [
    {
     "name": "stdout",
     "output_type": "stream",
     "text": [
      "We can reject the null hypothesis with a p-value of f1.4681458726460203e-40\n"
     ]
    }
   ],
   "source": [
    "# get stats results\n",
    "sw.get_va_mw()"
   ]
  },
  {
   "cell_type": "markdown",
   "id": "b69e871d",
   "metadata": {},
   "source": [
    "### Answer to the question\n",
    "* Answer the question you posed of the data by referring to the chart and statistical test (if you used one)\n",
    "* If the question relates to drivers, explain why the feature in question would/wouldn't make a good driver"
   ]
  },
  {
   "cell_type": "markdown",
   "id": "e38e3468",
   "metadata": {},
   "source": [
    "### 3) What is the relationship between wine quality and alcohol? "
   ]
  },
  {
   "cell_type": "markdown",
   "id": "f73c5066",
   "metadata": {},
   "source": [
    "### 2) Visualization of the data answering the question\n",
    "\n",
    "* Visualizations should be accompanied by take-aways telling the reader exactly what you want them to get from the chart\n",
    "* You can include theses as bullet points under the chart\n",
    "* Use your chart title to provide the main take-away from each visualization\n",
    "* Each visualization should answer one, and only one, of the explore questions"
   ]
  },
  {
   "cell_type": "markdown",
   "id": "d397d86a",
   "metadata": {},
   "source": [
    "#### Statistical Testing\n",
    "##### Levene Test:\n",
    ">- H$_0$: Higher quality wines alcohol and lower quality wines alcohol have equal variance.\n",
    ">- H$_a$: Higher quality wines alcohol and lower quality wines alcohol do **not** have equal variance.\n",
    ">- Confidence Interval: 95%\n",
    ">- $a$: 0.05"
   ]
  },
  {
   "cell_type": "code",
   "execution_count": 5,
   "id": "ece531b5",
   "metadata": {},
   "outputs": [
    {
     "name": "stdout",
     "output_type": "stream",
     "text": [
      "We can reject the null hypothesis with a p-value of 3.169462244506217e-45\n"
     ]
    }
   ],
   "source": [
    "# gettiing stats results\n",
    "sw.get_alcohol_lv()"
   ]
  },
  {
   "cell_type": "markdown",
   "id": "1b3fdd84",
   "metadata": {},
   "source": [
    "##### Mann-Whitney:\n",
    ">- H$_0$: There is no difference between higher quality wines alcohol and lower quality wines alcohol\n",
    ">- H$_a$: There is a difference between higher quality wines alcohol and lower quality wines alcohol\n",
    ">- Confidence Interval: 95%\n",
    ">- $a$: 0.05"
   ]
  },
  {
   "cell_type": "code",
   "execution_count": 6,
   "id": "1c57d31a",
   "metadata": {},
   "outputs": [
    {
     "name": "stdout",
     "output_type": "stream",
     "text": [
      "We can reject the null hypothesis with a p-value of f3.1240584154670644e-95\n"
     ]
    }
   ],
   "source": [
    "# getting stats results\n",
    "sw.get_alcohol_mw()"
   ]
  },
  {
   "cell_type": "markdown",
   "id": "a6f6e24c",
   "metadata": {},
   "source": [
    "### Answer to the question\n",
    "* Answer the question you posed of the data by referring to the chart and statistical test (if you used one)\n",
    "* If the question relates to drivers, explain why the feature in question would/wouldn't make a good driver"
   ]
  },
  {
   "cell_type": "markdown",
   "id": "369f3613",
   "metadata": {},
   "source": [
    "### 4) What is the relationship between wine quality and density?"
   ]
  },
  {
   "cell_type": "markdown",
   "id": "761616a4",
   "metadata": {},
   "source": [
    "### Visualization of the data answering the question\n",
    "\n",
    "* Visualizations should be accompanied by take-aways telling the reader exactly what you want them to get from the chart\n",
    "* You can include theses as bullet points under the chart\n",
    "* Use your chart title to provide the main take-away from each visualization\n",
    "* Each visualization should answer one, and only one, of the explore questions"
   ]
  },
  {
   "cell_type": "markdown",
   "id": "02351d77",
   "metadata": {},
   "source": [
    "#### Statistical Testing\n",
    "##### Levene Test:\n",
    ">- H$_0$: Higher quality wines' density and lower quality wines' density have equal variance.\n",
    ">- H$_a$: Higher quality wines density' and lower quality wines' density do **not** have equal variance.\n",
    ">- Confidence Interval: 95%\n",
    ">- $a$: 0.05"
   ]
  },
  {
   "cell_type": "code",
   "execution_count": 7,
   "id": "611588e3",
   "metadata": {},
   "outputs": [
    {
     "name": "stdout",
     "output_type": "stream",
     "text": [
      "We can reject the null hypothesis with a p-value of 1.2756207455735509e-15\n"
     ]
    }
   ],
   "source": [
    "# getting stats results\n",
    "sw.get_density_lv()"
   ]
  },
  {
   "cell_type": "markdown",
   "id": "5d584c21",
   "metadata": {},
   "source": [
    "##### Mann-Whitney:\n",
    ">- H$_0$: There is no difference between higher quality wines density and lower quality wines density\n",
    ">- H$_a$: There is a difference between higher quality wines density and lower quality wines density\n",
    ">- Confidence Interval: 95%\n",
    ">- $a$: 0.05"
   ]
  },
  {
   "cell_type": "code",
   "execution_count": 8,
   "id": "d57695e6",
   "metadata": {},
   "outputs": [
    {
     "name": "stdout",
     "output_type": "stream",
     "text": [
      "We can reject the null hypothesis with a p-value of f1.2478925168718082e-51\n"
     ]
    }
   ],
   "source": [
    "# getting stats results\n",
    "sw.get_density_mw()"
   ]
  },
  {
   "cell_type": "markdown",
   "id": "913a7c3b",
   "metadata": {},
   "source": [
    "###  Answer to the question\n",
    "* Answer the question you posed of the data by referring to the chart and statistical test (if you used one)\n",
    "* If the question relates to drivers, explain why the feature in question would/wouldn't make a good driver"
   ]
  },
  {
   "cell_type": "markdown",
   "id": "95a92ae0",
   "metadata": {},
   "source": [
    "### 5) What is the relationship between wine quality and chlorides?"
   ]
  },
  {
   "cell_type": "markdown",
   "id": "ce6a317f",
   "metadata": {},
   "source": [
    "### Visualization of the data answering the question\n",
    "\n",
    "* Visualizations should be accompanied by take-aways telling the reader exactly what you want them to get from the chart\n",
    "* You can include theses as bullet points under the chart\n",
    "* Use your chart title to provide the main take-away from each visualization\n",
    "* Each visualization should answer one, and only one, of the explore questions"
   ]
  },
  {
   "cell_type": "markdown",
   "id": "efcce01d",
   "metadata": {},
   "source": [
    "#### Statistical Testing\n",
    "##### Levene Test:\n",
    ">- H$_0$: Higher quality wines' chlorides and lower quality wines' chlorides have equal variance.\n",
    ">- H$_a$: Higher quality wines' chlorides and lower quality wines' chlorides do **not** have equal variance.\n",
    ">- Confidence Interval: 95%\n",
    ">- $a$: 0.05"
   ]
  },
  {
   "cell_type": "code",
   "execution_count": 9,
   "id": "824bfa2d",
   "metadata": {},
   "outputs": [
    {
     "name": "stdout",
     "output_type": "stream",
     "text": [
      "We can reject the null hypothesis with a p-value of 3.890765888691501e-05\n"
     ]
    }
   ],
   "source": [
    "# getting stats results\n",
    "sw.get_chlorides_lv()"
   ]
  },
  {
   "cell_type": "markdown",
   "id": "67b6f1eb",
   "metadata": {},
   "source": [
    "##### Mann-Whitney:\n",
    ">- H$_0$: There is no difference between higher quality wines chlorides and lower quality wines chlorides\n",
    ">- H$_a$: There is a difference between higher quality wines chlorides and lower quality wines chlorides\n",
    ">- Confidence Interval: 95%\n",
    ">- $a$: 0.05"
   ]
  },
  {
   "cell_type": "code",
   "execution_count": 10,
   "id": "b42cc3da",
   "metadata": {},
   "outputs": [
    {
     "name": "stdout",
     "output_type": "stream",
     "text": [
      "We can reject the null hypothesis with a p-value of f6.904700790278716e-42\n"
     ]
    }
   ],
   "source": [
    "# getting stats results\n",
    "sw.get_chlorides_mw()"
   ]
  },
  {
   "cell_type": "markdown",
   "id": "e66f2ab4",
   "metadata": {},
   "source": [
    "### Answer to the question\n",
    "* Answer the question you posed of the data by referring to the chart and statistical test (if you used one)\n",
    "* If the question relates to drivers, explain why the feature in question would/wouldn't make a good driver"
   ]
  },
  {
   "cell_type": "markdown",
   "id": "iraqi-sellers",
   "metadata": {},
   "source": [
    "## Exploration Summary\n",
    "* After your explore section, before you start modeling, provide a summary of your findings in Explore\n",
    "* Include a summary of your take-aways\n",
    "* Include a summary of the features you examined and weather or not you will be going to Modeling with each feature and why\n",
    "* It is important to note which features will be going into your model so the reader knows what features you are using to model on"
   ]
  },
  {
   "cell_type": "markdown",
   "id": "minus-tulsa",
   "metadata": {},
   "source": [
    "## Modeling"
   ]
  },
  {
   "cell_type": "markdown",
   "id": "hydraulic-spectrum",
   "metadata": {},
   "source": [
    "### Introduction\n",
    "* Explain how you will be evaluating your models\n",
    "* Include the evaluation metric you will be using and why you have chosen it\n",
    "* Create a baseline and briefly explain how it was calculated "
   ]
  },
  {
   "cell_type": "code",
   "execution_count": 3,
   "id": "ranging-rebecca",
   "metadata": {},
   "outputs": [],
   "source": [
    "# If you use code to generate your baseline run the code and generate the output here"
   ]
  },
  {
   "cell_type": "markdown",
   "id": "thick-dream",
   "metadata": {},
   "source": [
    "Printout should read: <br>\n",
    "Baseline: \"number\" \"evaluation metric\""
   ]
  },
  {
   "cell_type": "markdown",
   "id": "emotional-purchase",
   "metadata": {},
   "source": [
    "### Best 3 Models\n",
    "* Show the three best model results obtained using your selected features to predict the target variable\n",
    "* Typically students will show the top models they are able to generate for three different model types"
   ]
  },
  {
   "cell_type": "markdown",
   "id": "gentle-capability",
   "metadata": {},
   "source": [
    "## You may use this as a template for how to introduce your models:"
   ]
  },
  {
   "cell_type": "markdown",
   "id": "intensive-vietnamese",
   "metadata": {},
   "source": [
    "### Model Type"
   ]
  },
  {
   "cell_type": "code",
   "execution_count": 4,
   "id": "colonial-newport",
   "metadata": {},
   "outputs": [],
   "source": [
    "# Code that runs the best model in that model type goes here \n",
    "# (This may be imported from a module)"
   ]
  },
  {
   "cell_type": "markdown",
   "id": "distinguished-abuse",
   "metadata": {},
   "source": [
    "Printout of model code should read: <br>\n",
    "\"Model Type\" <br>\n",
    "\"evaluation metric\" on train: \"evaluation result\" <br>\n",
    "\"evaluation metric\" on validate: \"evaluation result\""
   ]
  },
  {
   "cell_type": "markdown",
   "id": "regulated-fellowship",
   "metadata": {},
   "source": [
    "### Test Model\n",
    "* Choose the best model out of the three as you best model and explain why you have chosen it\n",
    "* Explain that you will now run your final model on test data to gauge how it will perform on unseen data"
   ]
  },
  {
   "cell_type": "code",
   "execution_count": 5,
   "id": "optical-quilt",
   "metadata": {},
   "outputs": [],
   "source": [
    "# Code that runs the best overall model on test data (this may be imported from a module)"
   ]
  },
  {
   "cell_type": "markdown",
   "id": "motivated-recycling",
   "metadata": {},
   "source": [
    "Printout of model code should read: <br>\n",
    "\"Model Type\" <br>\n",
    "\"evaluation metric\" on Test: \"evaluation result\" <br>"
   ]
  },
  {
   "cell_type": "markdown",
   "id": "bright-evans",
   "metadata": {},
   "source": [
    "### Modeling Wrap \n",
    "* Give a final interpretation of how the models test score compares to the baseline and weather you would recommend this model for production"
   ]
  },
  {
   "cell_type": "markdown",
   "id": "tutorial-twelve",
   "metadata": {},
   "source": [
    "## Conclusion\n",
    "\n",
    "### Summery\n",
    "* Summarize your findings and answer the questions you brought up in explore \n",
    "* Summarize how drivers discovered lead or did not lead to a successful model \n",
    "\n",
    "### Recommendations\n",
    "* Recommendations are actions the stakeholder should take based on your insights\n",
    "\n",
    "### Next Steps\n",
    "* Next Steps are what you, as a Data Scientist, would do if provided more time to work on the project"
   ]
  },
  {
   "cell_type": "markdown",
   "id": "tender-source",
   "metadata": {},
   "source": [
    "**Where there is code in your report there should also be code comments telling the reader what each code block is doing. This is true for any and all code blocks even if you are using a function to import code from a module.**\n",
    "<br>\n",
    "<br>\n",
    "**Your Notebook should contain adequate markdown that documents your thought process, decision making, and navigation through the pipeline. As a Data Scientist, your job does not end with making data discoveries. It includes effectively communicating those discoveries as well. This means documentation is a critical part of your job.**"
   ]
  },
  {
   "cell_type": "markdown",
   "id": "frank-castle",
   "metadata": {},
   "source": [
    "# README\n",
    "\n",
    "Your README should contain all of the following elements:\n",
    "\n",
    "* **Title** Gives the name of your project\n",
    "* **Project Description** Describes what your project is and why it is important \n",
    "* **Project Goal** Clearly states what your project sets out to do and how the information gained can be applied to the real world\n",
    "* **Initial Hypotheses** Initial questions used to focus your project \n",
    "* **Project Plan** Guides the reader through the different stages of the pipeline as they relate to your project\n",
    "* **Data Dictionary** Gives a definition for each of the features used in your report and the units they are measured in, if applicable\n",
    "* **Steps to Reproduce** Gives instructions for reproducing your work. i.e. Running your notebook on someone else's computer."
   ]
  }
 ],
 "metadata": {
  "kernelspec": {
   "display_name": "Python 3 (ipykernel)",
   "language": "python",
   "name": "python3"
  },
  "language_info": {
   "codemirror_mode": {
    "name": "ipython",
    "version": 3
   },
   "file_extension": ".py",
   "mimetype": "text/x-python",
   "name": "python",
   "nbconvert_exporter": "python",
   "pygments_lexer": "ipython3",
   "version": "3.9.13"
  }
 },
 "nbformat": 4,
 "nbformat_minor": 5
}
