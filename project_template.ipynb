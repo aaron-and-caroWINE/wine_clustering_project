{
 "cells": [
  {
   "cell_type": "markdown",
   "id": "premier-milan",
   "metadata": {},
   "source": [
    "# Wine Quality\n",
    "*Team Members: Caroline Miller, Aaron Moore*\n"
   ]
  },
  {
   "cell_type": "markdown",
   "id": "going-assembly",
   "metadata": {},
   "source": [
    "## Imports"
   ]
  },
  {
   "cell_type": "code",
   "execution_count": 1,
   "id": "divided-poster",
   "metadata": {},
   "outputs": [
    {
     "ename": "SyntaxError",
     "evalue": "EOL while scanning string literal (wrangle_wine.py, line 171)",
     "output_type": "error",
     "traceback": [
      "Traceback \u001b[0;36m(most recent call last)\u001b[0m:\n",
      "  File \u001b[1;32m/opt/homebrew/anaconda3/lib/python3.9/site-packages/IPython/core/interactiveshell.py:3398\u001b[0m in \u001b[1;35mrun_code\u001b[0m\n    exec(code_obj, self.user_global_ns, self.user_ns)\n",
      "\u001b[0;36m  Input \u001b[0;32mIn [1]\u001b[0;36m in \u001b[0;35m<cell line: 2>\u001b[0;36m\u001b[0m\n\u001b[0;31m    from wrangle_wine import merge_wine, wrangle_wine\u001b[0m\n",
      "\u001b[0;36m  File \u001b[0;32m~/codeup-data-science/wine_clustering_project/wrangle_wine.py:171\u001b[0;36m\u001b[0m\n\u001b[0;31m    upper_fence = col_qs[col][0.75] + (iqr*k)'\u001b[0m\n\u001b[0m                                              ^\u001b[0m\n\u001b[0;31mSyntaxError\u001b[0m\u001b[0;31m:\u001b[0m EOL while scanning string literal\n"
     ]
    }
   ],
   "source": [
    "# getting imports\n",
    "from wrangle_wine import merge_wine, wrangle_wine\n",
    "\n",
    "import stats_wine as sw\n",
    "import explore as e\n",
    "from explore import quality_dis\n",
    "import modeling"
   ]
  },
  {
   "cell_type": "markdown",
   "id": "criminal-glory",
   "metadata": {},
   "source": [
    "## Acquire\n",
    "\n",
    "* Acquired two datasets from data.world on 2023-04-14\n",
    "* Saved the dataset as csv files and merged them \n",
    "* After merging:\n",
    "    * Observations: 6,497 wines on file\n",
    "    * Features: 13 features representing different wine characteristics"
   ]
  },
  {
   "cell_type": "code",
   "execution_count": null,
   "id": "paperback-gather",
   "metadata": {},
   "outputs": [],
   "source": [
    "# Import acquired messy data from your acquire file here\n",
    "df = merge_wine()"
   ]
  },
  {
   "cell_type": "code",
   "execution_count": null,
   "id": "2bfcfb77",
   "metadata": {},
   "outputs": [],
   "source": [
    "# getting sample\n",
    "df.sample(2)"
   ]
  },
  {
   "cell_type": "markdown",
   "id": "impossible-bible",
   "metadata": {},
   "source": [
    "## Prepare\n",
    "\n",
    "* Removed outliers using the IQR * 1.5 method\n",
    "* No null values were present\n",
    "* Changed names to be python friendly\n",
    "* Encoded and scaled data\n",
    "* Split data into train, validate, test"
   ]
  },
  {
   "cell_type": "code",
   "execution_count": null,
   "id": "flexible-irrigation",
   "metadata": {},
   "outputs": [],
   "source": [
    "# importing wrangled data\n",
    "train, validate, test,\\\n",
    "train_scaled, validate_scaled, test_scaled = wrangle_wine()"
   ]
  },
  {
   "cell_type": "markdown",
   "id": "immediate-mirror",
   "metadata": {},
   "source": [
    "## Explore "
   ]
  },
  {
   "cell_type": "markdown",
   "id": "4c2a92a4",
   "metadata": {},
   "source": [
    "### 1) What is the distribution of the wine quality?"
   ]
  },
  {
   "cell_type": "code",
   "execution_count": null,
   "id": "6bd9c7a1",
   "metadata": {},
   "outputs": [],
   "source": [
    "# get plot\n",
    "quality_dis(train)"
   ]
  },
  {
   "cell_type": "markdown",
   "id": "overhead-sleep",
   "metadata": {},
   "source": [
    "##### Takeaways:\n",
    "* The majority of the wines are white wines\n",
    "* The majority of the wines have a quality rating 6\n",
    "* There are more higher quality wines than lower quality"
   ]
  },
  {
   "cell_type": "markdown",
   "id": "c551cdc9",
   "metadata": {},
   "source": [
    "### 2) What is the relationship between wine quality and volatile acidity?"
   ]
  },
  {
   "cell_type": "code",
   "execution_count": null,
   "id": "3ba023f1",
   "metadata": {},
   "outputs": [],
   "source": [
    "# get visualization\n",
    "e.volatile_acidity_vis(train)"
   ]
  },
  {
   "cell_type": "markdown",
   "id": "37bca123",
   "metadata": {},
   "source": [
    "##### Takeaways:\n",
    "* The higher quality wines have lower volatile acidities and the lower quality of wines have higher volatile acidities"
   ]
  },
  {
   "cell_type": "markdown",
   "id": "1ebcc17a",
   "metadata": {},
   "source": [
    "#### Statistical Testing\n",
    "##### Levene Test :\n",
    ">- H$_0$: Higher quality wines volatile acidity and lower quality wines volatile acidity have equal variance.\n",
    ">- H$_a$: Higher quality wines volatile acidity and lower quality wines volatile acidity do **not** have equal variance.\n",
    ">- Confidence Interval: 95%\n",
    ">- $a$: 0.05"
   ]
  },
  {
   "cell_type": "code",
   "execution_count": null,
   "id": "a4026ea0",
   "metadata": {},
   "outputs": [],
   "source": [
    "# get stats results\n",
    "sw.get_va_lv()"
   ]
  },
  {
   "cell_type": "markdown",
   "id": "26f27a38",
   "metadata": {},
   "source": [
    "##### Mann-Whitney:\n",
    ">- H$_0$: There is no difference between higher quality wines volatile acid and lower quality wines volatile acidity\n",
    ">- H$_a$: There is a difference between higher quality wines volatile acidity and lower quality wines volatile acidity\n",
    ">- Confidence Interval: 95%\n",
    ">- $a$: 0.05"
   ]
  },
  {
   "cell_type": "code",
   "execution_count": null,
   "id": "b2dc2347",
   "metadata": {},
   "outputs": [],
   "source": [
    "# get stats results\n",
    "sw.get_va_mw()"
   ]
  },
  {
   "cell_type": "markdown",
   "id": "b69e871d",
   "metadata": {},
   "source": [
    "Based on the stastitical testing, there appears to be noteworthy differences between the volatile acidity of higher quality wines and lower quality wines."
   ]
  },
  {
   "cell_type": "markdown",
   "id": "e38e3468",
   "metadata": {},
   "source": [
    "### 3) What is the relationship between wine quality and alcohol? "
   ]
  },
  {
   "cell_type": "code",
   "execution_count": null,
   "id": "c6732a8f",
   "metadata": {},
   "outputs": [],
   "source": [
    "# get visuals\n",
    "e.alcohol_vis(train)"
   ]
  },
  {
   "cell_type": "markdown",
   "id": "7d5b3db6",
   "metadata": {},
   "source": [
    "##### Takeaways:\n",
    "* The higher quality wines have higher alcohol content and the lower quality wines have lower alcohol content"
   ]
  },
  {
   "cell_type": "markdown",
   "id": "d397d86a",
   "metadata": {},
   "source": [
    "#### Statistical Testing\n",
    "##### Levene Test:\n",
    ">- H$_0$: Higher quality wines alcohol and lower quality wines alcohol have equal variance.\n",
    ">- H$_a$: Higher quality wines alcohol and lower quality wines alcohol do **not** have equal variance.\n",
    ">- Confidence Interval: 95%\n",
    ">- $a$: 0.05"
   ]
  },
  {
   "cell_type": "code",
   "execution_count": null,
   "id": "ece531b5",
   "metadata": {},
   "outputs": [],
   "source": [
    "# gettiing stats results\n",
    "sw.get_alcohol_lv()"
   ]
  },
  {
   "cell_type": "markdown",
   "id": "1b3fdd84",
   "metadata": {},
   "source": [
    "##### Mann-Whitney:\n",
    ">- H$_0$: There is no difference between higher quality wines alcohol and lower quality wines alcohol\n",
    ">- H$_a$: There is a difference between higher quality wines alcohol and lower quality wines alcohol\n",
    ">- Confidence Interval: 95%\n",
    ">- $a$: 0.05"
   ]
  },
  {
   "cell_type": "code",
   "execution_count": null,
   "id": "1c57d31a",
   "metadata": {},
   "outputs": [],
   "source": [
    "# getting stats results\n",
    "sw.get_alcohol_mw()"
   ]
  },
  {
   "cell_type": "markdown",
   "id": "a6f6e24c",
   "metadata": {},
   "source": [
    "Based on the stastitical testing, there appears to be noteworthy differences between the alcohol content of higher quality wines and lower quality wines."
   ]
  },
  {
   "cell_type": "markdown",
   "id": "369f3613",
   "metadata": {},
   "source": [
    "### 4) What is the relationship between wine quality and density?"
   ]
  },
  {
   "cell_type": "code",
   "execution_count": null,
   "id": "16a8b895",
   "metadata": {},
   "outputs": [],
   "source": [
    "# visualization\n",
    "e.density_vis(train)"
   ]
  },
  {
   "cell_type": "markdown",
   "id": "86911207",
   "metadata": {},
   "source": [
    "##### Takeaways:\n",
    "* Higher quality wines have lower desnities and lower quality wines have densities in the mid to higher range"
   ]
  },
  {
   "cell_type": "markdown",
   "id": "02351d77",
   "metadata": {},
   "source": [
    "#### Statistical Testing\n",
    "##### Levene Test:\n",
    ">- H$_0$: Higher quality wines' density and lower quality wines' density have equal variance.\n",
    ">- H$_a$: Higher quality wines density' and lower quality wines' density do **not** have equal variance.\n",
    ">- Confidence Interval: 95%\n",
    ">- $a$: 0.05"
   ]
  },
  {
   "cell_type": "code",
   "execution_count": null,
   "id": "611588e3",
   "metadata": {},
   "outputs": [],
   "source": [
    "# getting stats results\n",
    "sw.get_density_lv()"
   ]
  },
  {
   "cell_type": "markdown",
   "id": "5d584c21",
   "metadata": {},
   "source": [
    "##### Mann-Whitney:\n",
    ">- H$_0$: There is no difference between higher quality wines density and lower quality wines density\n",
    ">- H$_a$: There is a difference between higher quality wines density and lower quality wines density\n",
    ">- Confidence Interval: 95%\n",
    ">- $a$: 0.05"
   ]
  },
  {
   "cell_type": "code",
   "execution_count": null,
   "id": "d57695e6",
   "metadata": {},
   "outputs": [],
   "source": [
    "# getting stats results\n",
    "sw.get_density_mw()"
   ]
  },
  {
   "cell_type": "markdown",
   "id": "913a7c3b",
   "metadata": {},
   "source": [
    "Based on the stastitical testing, there appears to be noteworthy differences between the density of higher quality wines and lower quality wines."
   ]
  },
  {
   "cell_type": "markdown",
   "id": "95a92ae0",
   "metadata": {},
   "source": [
    "### 5) What is the relationship between wine quality and chlorides?"
   ]
  },
  {
   "cell_type": "code",
   "execution_count": null,
   "id": "8d6e48eb",
   "metadata": {},
   "outputs": [],
   "source": [
    "# get visual\n",
    "e.chlorides_vis(train)"
   ]
  },
  {
   "cell_type": "markdown",
   "id": "0195f8cc",
   "metadata": {},
   "source": [
    "##### Takeaways:\n",
    "* Higher quality wines have lower levels and lower qualities have higher levels of chlorides"
   ]
  },
  {
   "cell_type": "markdown",
   "id": "efcce01d",
   "metadata": {},
   "source": [
    "#### Statistical Testing\n",
    "##### Levene Test:\n",
    ">- H$_0$: Higher quality wines' chlorides and lower quality wines' chlorides have equal variance.\n",
    ">- H$_a$: Higher quality wines' chlorides and lower quality wines' chlorides do **not** have equal variance.\n",
    ">- Confidence Interval: 95%\n",
    ">- $a$: 0.05"
   ]
  },
  {
   "cell_type": "code",
   "execution_count": null,
   "id": "824bfa2d",
   "metadata": {},
   "outputs": [],
   "source": [
    "# getting stats results\n",
    "sw.get_chlorides_lv()"
   ]
  },
  {
   "cell_type": "markdown",
   "id": "67b6f1eb",
   "metadata": {},
   "source": [
    "##### Mann-Whitney:\n",
    ">- H$_0$: There is no difference between higher quality wines chlorides and lower quality wines chlorides\n",
    ">- H$_a$: There is a difference between higher quality wines chlorides and lower quality wines chlorides\n",
    ">- Confidence Interval: 95%\n",
    ">- $a$: 0.05"
   ]
  },
  {
   "cell_type": "code",
   "execution_count": null,
   "id": "b42cc3da",
   "metadata": {},
   "outputs": [],
   "source": [
    "# getting stats results\n",
    "sw.get_chlorides_mw()"
   ]
  },
  {
   "cell_type": "markdown",
   "id": "e66f2ab4",
   "metadata": {},
   "source": [
    "Based on the stastitical testing, there appears to be noteworthy differences between the chloride content of higher quality wines and lower quality wines."
   ]
  },
  {
   "cell_type": "markdown",
   "id": "iraqi-sellers",
   "metadata": {},
   "source": [
    "## Exploration Summary\n",
    "There are statistically significant differences between the average chloride content, density, alcohol content, and volatile acidity of high quality wines and low quality wines\n",
    "\n",
    "* Features for modeling:\n",
    "    * Fixed acidity\n",
    "    * Volatile acidity\n",
    "    * Citric acid\n",
    "    * Residual sugar\n",
    "    * Chlorides\n",
    "    * Free sulfur dioxide\n",
    "    * Density\n",
    "    * pH\n",
    "    * Sulphates\n",
    "    * Alcohol\n",
    "    * White wine"
   ]
  },
  {
   "cell_type": "markdown",
   "id": "minus-tulsa",
   "metadata": {},
   "source": [
    "## Modeling"
   ]
  },
  {
   "cell_type": "markdown",
   "id": "hydraulic-spectrum",
   "metadata": {},
   "source": [
    "### Introduction\n",
    "\n",
    "* The evaluation metric used to determine the best model is accuracy.\n",
    "\n",
    "* The overall picture of how often the model was correct in its prediction is paramount in this project because none of the 4 possible outcomes is of greater interest than the rest; we are interested in the model's ability to correctly predict all four of the possible outcomes. \n",
    "\n",
    "* For the classification models, the baseline predictions are equivalient to the mode outcome, which in this case is a quality rating of six.\n",
    "\n",
    "* For the Linear Regression models, the baseline predictions are equivalent to the mean rounded to an integer value because the quality ratings are whole numbers; in this case, the baseline also is six. "
   ]
  },
  {
   "cell_type": "markdown",
   "id": "33325dc9",
   "metadata": {},
   "source": [
    "Clustering was conducted through two methods: 1) datasets which included clusters, and 2) datasets which did not include clusters."
   ]
  },
  {
   "cell_type": "code",
   "execution_count": null,
   "id": "862fd653",
   "metadata": {},
   "outputs": [],
   "source": [
    "# get modeling visual\n",
    "modeling.clustering_viz()"
   ]
  },
  {
   "cell_type": "markdown",
   "id": "510d66bf",
   "metadata": {},
   "source": [
    "#### Clustering\n",
    "\n",
    "The most valuable number of centroids found through Clustering models matched the number of possible outcomes:  4. \n",
    "\n",
    "Using a K value of 4, a subset was used to generate the clusters which included the following features:\n",
    "\n",
    "    - alcohol\n",
    "    - density \n",
    "    - chlorides \n",
    "    - volatile_acidity\n",
    "    \n",
    "These features were chosen because they proved to have a linear relationship with the qualty of wine. "
   ]
  },
  {
   "cell_type": "markdown",
   "id": "4e97a012",
   "metadata": {},
   "source": [
    "**Classifcation Models and Linear Rregression Models**"
   ]
  },
  {
   "cell_type": "code",
   "execution_count": null,
   "id": "e8e9b126",
   "metadata": {
    "scrolled": true
   },
   "outputs": [],
   "source": [
    "# Evaluation Metrics of Classification Models with clusters as features\n",
    "\n",
    "modeling.classification_eval_dict()"
   ]
  },
  {
   "cell_type": "code",
   "execution_count": null,
   "id": "72ec3ab3",
   "metadata": {},
   "outputs": [],
   "source": [
    "# Evaluation Metrics of Linear Regression Models with clusters as features\n",
    "\n",
    "modeling.regression_eval_dict()"
   ]
  },
  {
   "cell_type": "markdown",
   "id": "81334513",
   "metadata": {},
   "source": [
    "Comparison with Models without Clusters\n",
    "\n",
    "    - The model without clusters as features which performed the best was a Random Forest Classifier with a max depth of 4. \n",
    "    \n",
    "    - The accuracy score of this model was 0.610\n",
    "    \n",
    "    - The models without the clusters as features actually performed better than the models which used the clusters as features\n",
    "    \n",
    "    - Note:  It first appears that the Linear Regression models performed the best. Through further exploration, the predictions of these models closely if not identically reflected the baseline predictions. Because of this, it was determined that Linear Regression modeling was an inapprpriate methodology to classify such discrete outcomes as wine quality target."
   ]
  },
  {
   "cell_type": "markdown",
   "id": "87fe8a72",
   "metadata": {},
   "source": [
    "**Testing the Best Model**"
   ]
  },
  {
   "cell_type": "code",
   "execution_count": null,
   "id": "28d85e93",
   "metadata": {},
   "outputs": [],
   "source": [
    "# Random Forest Classifier with a max depth of 4 and no clusters as features\n",
    "\n",
    "modeling.test_best_model()"
   ]
  },
  {
   "cell_type": "markdown",
   "id": "bright-evans",
   "metadata": {},
   "source": [
    "### Modeling Wrap \n",
    "* Give a final interpretation of how the models test score compares to the baseline and weather you would recommend this model for production"
   ]
  },
  {
   "cell_type": "markdown",
   "id": "tutorial-twelve",
   "metadata": {},
   "source": [
    "## Conclusion\n",
    "\n",
    "### Summery\n",
    "* Summarize your findings and answer the questions you brought up in explore \n",
    "* Summarize how drivers discovered lead or did not lead to a successful model \n",
    "\n",
    "### Recommendations\n",
    "* Recommendations are actions the stakeholder should take based on your insights\n",
    "\n",
    "### Next Steps\n",
    "* Next Steps are what you, as a Data Scientist, would do if provided more time to work on the project"
   ]
  }
 ],
 "metadata": {
  "kernelspec": {
   "display_name": "Python 3 (ipykernel)",
   "language": "python",
   "name": "python3"
  },
  "language_info": {
   "codemirror_mode": {
    "name": "ipython",
    "version": 3
   },
   "file_extension": ".py",
   "mimetype": "text/x-python",
   "name": "python",
   "nbconvert_exporter": "python",
   "pygments_lexer": "ipython3",
   "version": "3.9.13"
  }
 },
 "nbformat": 4,
 "nbformat_minor": 5
}
